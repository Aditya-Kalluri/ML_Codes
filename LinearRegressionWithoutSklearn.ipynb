{
  "nbformat": 4,
  "nbformat_minor": 0,
  "metadata": {
    "colab": {
      "provenance": [],
      "authorship_tag": "ABX9TyMyL9nheAR1q3E98fLb/Kvh",
      "include_colab_link": true
    },
    "kernelspec": {
      "name": "python3",
      "display_name": "Python 3"
    },
    "language_info": {
      "name": "python"
    }
  },
  "cells": [
    {
      "cell_type": "markdown",
      "metadata": {
        "id": "view-in-github",
        "colab_type": "text"
      },
      "source": [
        "<a href=\"https://colab.research.google.com/github/Aditya-Kalluri/ML_Codes/blob/main/LinearRegressionWithoutSklearn.ipynb\" target=\"_parent\"><img src=\"https://colab.research.google.com/assets/colab-badge.svg\" alt=\"Open In Colab\"/></a>"
      ]
    },
    {
      "cell_type": "code",
      "execution_count": null,
      "metadata": {
        "id": "l4QjaVQhpHb1"
      },
      "outputs": [],
      "source": [
        "import pandas as pd\n",
        "import matplotlib.pyplot as plt\n",
        "import numpy as np"
      ]
    },
    {
      "cell_type": "code",
      "source": [
        "data = pd.read_csv(\"LinearRegressionDATA.csv\", usecols = ['x','y'])"
      ],
      "metadata": {
        "id": "MizJnj16pYjQ"
      },
      "execution_count": null,
      "outputs": []
    },
    {
      "cell_type": "code",
      "source": [
        "def loss_function(m, c, points):\n",
        "    total_error=0\n",
        "    for i in range(len(points)):\n",
        "        a = points.iloc[i].x\n",
        "        b = points.iloc[i].y\n",
        "        total_error+= (b - (m*a + c)) ** 2\n",
        "    total_error/float(len(points))"
      ],
      "metadata": {
        "id": "gcZdkBGPpg1Q"
      },
      "execution_count": null,
      "outputs": []
    },
    {
      "cell_type": "code",
      "source": [
        "def gradient_descent(m_now, b_now, points, L):\n",
        "    m_gradient = 0\n",
        "    b_gradient = 0\n",
        "\n",
        "    n = len(points)\n",
        "\n",
        "    for i in range(n):\n",
        "        p = points.iloc[i].x\n",
        "        q = points.iloc[i].y\n",
        "\n",
        "        m_gradient += -(2/n) * p * ( q - (m_now*p + b_now))\n",
        "        b_gradient += -(2/n) * (q - (m_now*p + b_now))\n",
        "\n",
        "    m = m_now - m_gradient * L\n",
        "    b = b_now - b_gradient * L\n",
        "\n",
        "    return m,b"
      ],
      "metadata": {
        "id": "XgPZ9AkrpkgO"
      },
      "execution_count": null,
      "outputs": []
    },
    {
      "cell_type": "code",
      "source": [
        "m = 0\n",
        "b = 0\n",
        "L = 0.0001\n",
        "epochs = 3000\n",
        "\n",
        "for i in range(epochs):\n",
        "    m, b = gradient_descent(a, b, c, data, L)\n",
        "\n",
        "print(m,b)"
      ],
      "metadata": {
        "colab": {
          "base_uri": "https://localhost:8080/"
        },
        "id": "lJ9_uZCFppgO",
        "outputId": "5a2a6d8e-57f0-4238-fcb1-d5c191f39858"
      },
      "execution_count": null,
      "outputs": [
        {
          "output_type": "stream",
          "name": "stdout",
          "text": [
            "0.21368414710777037 2.3162181619475026\n"
          ]
        }
      ]
    },
    {
      "cell_type": "code",
      "source": [
        "plt.scatter(data.x, data.y, color = \"black\")\n",
        "plt.plot(list(range(0, 100)), [m*x + b for x in range (0,100)], color = \"red\")\n",
        "plt.show()"
      ],
      "metadata": {
        "colab": {
          "base_uri": "https://localhost:8080/",
          "height": 265
        },
        "id": "_zirc87cp0xU",
        "outputId": "1a52aa36-2d39-4bd5-f6fe-863539006beb"
      },
      "execution_count": null,
      "outputs": [
        {
          "output_type": "display_data",
          "data": {
            "text/plain": [
              "<Figure size 432x288 with 1 Axes>"
            ],
            "image/png": "[encoded data removed]"
          },
          "metadata": {
            "needs_background": "light"
          }
        }
      ]
    }
  ]
}