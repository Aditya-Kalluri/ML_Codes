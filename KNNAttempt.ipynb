{
  "nbformat": 4,
  "nbformat_minor": 0,
  "metadata": {
    "colab": {
      "provenance": [],
      "authorship_tag": "ABX9TyNnim+4KtMtido+3zC5k0Do",
      "include_colab_link": true
    },
    "kernelspec": {
      "name": "python3",
      "display_name": "Python 3"
    },
    "language_info": {
      "name": "python"
    }
  },
  "cells": [
    {
      "cell_type": "markdown",
      "metadata": {
        "id": "view-in-github",
        "colab_type": "text"
      },
      "source": [
        "<a href=\"https://colab.research.google.com/github/Aditya-Kalluri/ML_Codes/blob/main/KNNAttempt.ipynb\" target=\"_parent\"><img src=\"https://colab.research.google.com/assets/colab-badge.svg\" alt=\"Open In Colab\"/></a>"
      ]
    },
    {
      "cell_type": "code",
      "execution_count": null,
      "metadata": {
        "id": "KvIs6P9dF_h4"
      },
      "outputs": [],
      "source": [
        "# Importing Reqd Libraries\n",
        "# Importing sklearn only to access the iris dataset\n",
        "from sklearn import datasets\n",
        "import numpy as np"
      ]
    },
    {
      "cell_type": "code",
      "source": [
        "iris = datasets.load_iris()\n",
        "features = iris.data\n",
        "labels = iris.target"
      ],
      "metadata": {
        "id": "d4i-4W96GiwQ"
      },
      "execution_count": null,
      "outputs": []
    },
    {
      "cell_type": "code",
      "source": [
        "# users set the required input\n",
        "inp = [[]]\n",
        "print(\"Enter the values of the features of given iris: \")\n",
        "for i in range(len(features[0])):\n",
        "  item = float(input())\n",
        "  inp[0].append(item)"
      ],
      "metadata": {
        "colab": {
          "base_uri": "https://localhost:8080/"
        },
        "id": "7bNdNpE0HAcN",
        "outputId": "147a2e97-b72f-4d41-b83f-856f9617cba1"
      },
      "execution_count": null,
      "outputs": [
        {
          "name": "stdout",
          "output_type": "stream",
          "text": [
            "Enter the values of the features of given iris: \n",
            "5.2\n",
            "2.6\n",
            "4.2\n",
            "2.9\n"
          ]
        }
      ]
    },
    {
      "cell_type": "code",
      "source": [
        "# setting the number k, where k is the number of nearest points to the user's points we are checking with\n",
        "k = 20"
      ],
      "metadata": {
        "id": "PVz5k8GFrAg7"
      },
      "execution_count": null,
      "outputs": []
    },
    {
      "cell_type": "code",
      "source": [
        "dist = []\n",
        "for i in range(len(features)):\n",
        "  s = 0\n",
        "  s = np.linalg.norm(features[i] - inp[0])\n",
        "  dist.append(s)"
      ],
      "metadata": {
        "id": "h8fzgKRXLdu_"
      },
      "execution_count": null,
      "outputs": []
    },
    {
      "cell_type": "code",
      "source": [
        "index = []\n",
        "for i in range(k):\n",
        "  min_value = min(dist)\n",
        "  min_index = dist.index(min_value)\n",
        "  index.append(min_index)\n",
        "  dist[min_index] = 30\n",
        "print(index)"
      ],
      "metadata": {
        "colab": {
          "base_uri": "https://localhost:8080/"
        },
        "id": "r8BQCf0bNdNt",
        "outputId": "018ad780-4c2c-4b41-fa9a-625e73998a0e"
      },
      "execution_count": null,
      "outputs": [
        {
          "output_type": "stream",
          "name": "stdout",
          "text": [
            "[114, 121, 106, 113, 101, 142, 84, 59, 66, 138, 70, 61, 126, 127, 149, 89, 94, 53, 78, 146]\n"
          ]
        }
      ]
    },
    {
      "cell_type": "code",
      "source": [
        "a = 0\n",
        "b = 0\n",
        "c = 0\n",
        "for i in index:\n",
        "  d = labels[i]\n",
        "  if d == 0:\n",
        "    a = a+1\n",
        "  elif d == 1:\n",
        "    b = b+1\n",
        "  else:\n",
        "    c = c+1\n",
        "if a>b and a>c:\n",
        "  print(\"SETOSA\")\n",
        "elif b>a and b>c:\n",
        "  print(\"VERSICOLOUR\")\n",
        "else:\n",
        "  print(\"VIRGINICA\")"
      ],
      "metadata": {
        "colab": {
          "base_uri": "https://localhost:8080/"
        },
        "id": "5RyM2OZEPY-B",
        "outputId": "f36ab095-39e6-4cbe-af63-731c9d498e3b"
      },
      "execution_count": null,
      "outputs": [
        {
          "output_type": "stream",
          "name": "stdout",
          "text": [
            "VIRGINICA\n"
          ]
        }
      ]
    }
  ]
}